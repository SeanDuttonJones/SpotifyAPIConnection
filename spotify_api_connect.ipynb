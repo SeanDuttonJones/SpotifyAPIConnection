{
 "cells": [
  {
   "cell_type": "code",
   "execution_count": null,
   "id": "529389e6",
   "metadata": {},
   "outputs": [],
   "source": [
    "import requests\n",
    "from urllib.parse import urlencode\n",
    "import base64\n",
    "import webbrowser"
   ]
  },
  {
   "cell_type": "markdown",
   "id": "b40b837e",
   "metadata": {},
   "source": [
    "## Obtain Authorization Code\n",
    "Once your webbrowser opens and you login to Spotify and agree to the terms, you will find the code in the URL as the parameter \"code=\""
   ]
  },
  {
   "cell_type": "code",
   "execution_count": null,
   "id": "7ec2a64b",
   "metadata": {},
   "outputs": [],
   "source": [
    "client_id = \"enter your client_id here\"\n",
    "client_secret = \"enter your client_secret here\"\n",
    "\n",
    "auth_headers = {\n",
    "    \"client_id\": client_id,\n",
    "    \"response_type\": \"code\",\n",
    "    \"redirect_uri\": \"http://localhost:7777/callback\",\n",
    "    \"scope\": \"user-library-read\"\n",
    "}\n",
    "\n",
    "webbrowser.open(\"https://accounts.spotify.com/authorize?\" + urlencode(auth_headers))"
   ]
  },
  {
   "cell_type": "code",
   "execution_count": null,
   "id": "7e72b2d5",
   "metadata": {},
   "outputs": [],
   "source": [
    "code = \"insert your authorization code here\""
   ]
  },
  {
   "cell_type": "markdown",
   "id": "19347359",
   "metadata": {},
   "source": [
    "## Obtain Authorization Token"
   ]
  },
  {
   "cell_type": "code",
   "execution_count": null,
   "id": "40de593a",
   "metadata": {},
   "outputs": [],
   "source": [
    "encoded_credentials = base64.b64encode(client_id.encode() + b':' + client_secret.encode()).decode(\"utf-8\")\n",
    "\n",
    "token_headers = {\n",
    "    \"Authorization\": \"Basic \" + encoded_credentials,\n",
    "    \"Content-Type\": \"application/x-www-form-urlencoded\"\n",
    "}\n",
    "\n",
    "token_data = {\n",
    "    \"grant_type\": \"authorization_code\",\n",
    "    \"code\": code,\n",
    "    \"redirect_uri\": \"http://localhost:7777/callback\"\n",
    "}\n",
    "\n",
    "r = requests.post(\"https://accounts.spotify.com/api/token\", data=token_data, headers=token_headers)"
   ]
  },
  {
   "cell_type": "code",
   "execution_count": null,
   "id": "b2ddc564",
   "metadata": {},
   "outputs": [],
   "source": [
    "token = r.json()[\"access_token\"]\n",
    "\n",
    "print(token)"
   ]
  },
  {
   "cell_type": "markdown",
   "id": "11c2d3ef",
   "metadata": {},
   "source": [
    "## Concrete Example: Using the Authorization Token to Query Your Saved Tracks"
   ]
  },
  {
   "cell_type": "code",
   "execution_count": null,
   "id": "dbe30ff1",
   "metadata": {},
   "outputs": [],
   "source": [
    "user_headers = {\n",
    "    \"Authorization\": \"Bearer \" + token,\n",
    "    \"Content-Type\": \"application/json\"\n",
    "}\n",
    "\n",
    "user_params = {\n",
    "    \"limit\": 50\n",
    "}\n",
    "\n",
    "user_tracks_response = requests.get(\"https://api.spotify.com/v1/me/tracks\", params=user_params, headers=user_headers)\n",
    "\n",
    "print(user_tracks_response.json())"
   ]
  }
 ],
 "metadata": {
  "kernelspec": {
   "display_name": "Python 3 (ipykernel)",
   "language": "python",
   "name": "python3"
  },
  "language_info": {
   "codemirror_mode": {
    "name": "ipython",
    "version": 3
   },
   "file_extension": ".py",
   "mimetype": "text/x-python",
   "name": "python",
   "nbconvert_exporter": "python",
   "pygments_lexer": "ipython3",
   "version": "3.9.7"
  }
 },
 "nbformat": 4,
 "nbformat_minor": 5
}
